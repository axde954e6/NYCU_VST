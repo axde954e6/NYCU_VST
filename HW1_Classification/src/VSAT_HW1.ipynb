{
  "nbformat": 4,
  "nbformat_minor": 0,
  "metadata": {
    "colab": {
      "name": "VSAT_HW1.ipynb",
      "provenance": [],
      "collapsed_sections": []
    },
    "kernelspec": {
      "name": "python3",
      "display_name": "Python 3"
    },
    "language_info": {
      "name": "python"
    }
  },
  "cells": [
    {
      "cell_type": "code",
      "metadata": {
        "id": "-lrPNw4LRqR1"
      },
      "source": [
        "# -*- coding: utf-8 -*-\n",
        "import torch\n",
        "import torch.nn as nn\n",
        "import torch.nn.functional as F\n",
        "import torch.optim as optim\n",
        "import torchvision\n",
        "import torchvision.transforms as transforms"
      ],
      "execution_count": null,
      "outputs": []
    },
    {
      "cell_type": "code",
      "metadata": {
        "id": "Su7-rKOron8D"
      },
      "source": [
        "import numpy as np\n",
        "x_valid = np.load('/content/drive/MyDrive/VSAT_HW1/x_valid.npy')\n",
        "x_train = np.load('/content/drive/MyDrive/VSAT_HW1/x_train.npy')\n",
        "y_train=np.load('/content/drive/MyDrive/VSAT_HW1/y_train.npy')\n",
        "y_valid=np.load('/content/drive/MyDrive/VSAT_HW1/y_valid.npy')"
      ],
      "execution_count": null,
      "outputs": []
    },
    {
      "cell_type": "code",
      "metadata": {
        "id": "CcQvSjUrmb8H"
      },
      "source": [
        "def convert_CHW(data):\n",
        "  transform = transforms.Compose([transforms.ToTensor(), transforms.Normalize((0.5, 0.5, 0.5), (0.5, 0.5, 0.5))])\n",
        "  tmp=[]\n",
        "  for i,img in enumerate(data,0):\n",
        "    image=np.array(transform(img).tolist())\n",
        "    tmp.append(image)\n",
        "  tmp=np.array(tmp)\n",
        "  return tmp"
      ],
      "execution_count": null,
      "outputs": []
    },
    {
      "cell_type": "code",
      "metadata": {
        "id": "_KN6cz-1mi1M"
      },
      "source": [
        "#transform\n",
        "x_train=convert_CHW(x_train)\n",
        "x_valid=convert_CHW(x_valid)"
      ],
      "execution_count": null,
      "outputs": []
    },
    {
      "cell_type": "code",
      "metadata": {
        "id": "xSCAEkSXQrNq"
      },
      "source": [
        "import torch \n",
        "from torch.utils.data import Dataset,DataLoader\n",
        "\n",
        "class MyDataset(Dataset):\n",
        "    def __init__(self,data,label,transform):\n",
        "        self.data = torch.FloatTensor(data)\n",
        "        self.label = torch.LongTensor(label)\n",
        "        self.transform = transform\n",
        "\n",
        "    def __getitem__(self,index):\n",
        "        if self.transform:\n",
        "            self.data[index] = self.data[index]\n",
        "        return self.data[index],self.label[index]\n",
        "\n",
        "    def __len__(self):\n",
        "        return len(self.data)"
      ],
      "execution_count": null,
      "outputs": []
    },
    {
      "cell_type": "code",
      "metadata": {
        "colab": {
          "base_uri": "https://localhost:8080/"
        },
        "id": "QDCq7cuMU0s0",
        "outputId": "1ea01265-ab87-4e87-99f6-9db307c9be18"
      },
      "source": [
        "# GPU\n",
        "device = 'cuda:0' if torch.cuda.is_available() else 'cpu'\n",
        "print('GPU state:', device)"
      ],
      "execution_count": null,
      "outputs": [
        {
          "output_type": "stream",
          "name": "stdout",
          "text": [
            "GPU state: cuda:0\n"
          ]
        }
      ]
    },
    {
      "cell_type": "code",
      "metadata": {
        "id": "Ya-EYpsEU2fz"
      },
      "source": [
        "#dataset\n",
        "trainset=MyDataset(data=x_train,label=y_train,transform=None)\n",
        "testset=MyDataset(data=x_valid,label=y_valid,transform=None)\n",
        "#dataLoader\n",
        "trainLoader = DataLoader(dataset=trainset,batch_size=8,shuffle=True,num_workers=2)\n",
        "testLoader = DataLoader(dataset=testset,batch_size=1,num_workers=2)"
      ],
      "execution_count": null,
      "outputs": []
    },
    {
      "cell_type": "code",
      "metadata": {
        "colab": {
          "base_uri": "https://localhost:8080/"
        },
        "id": "UN1gBF0B3NnA",
        "outputId": "a9c395c1-3ce5-4e6e-cdf4-6c25bf6d25bd"
      },
      "source": [
        "# Model structure\n",
        "class Net(nn.Module):\n",
        "    def __init__(self):\n",
        "        super().__init__()\n",
        "        self.conv1 = nn.Conv2d(3, 6, 5)\n",
        "        self.pool = nn.MaxPool2d(2, 2)\n",
        "        self.conv2 = nn.Conv2d(6, 16, 5)\n",
        "        self.fc1 = nn.Linear(16 * 5 * 5, 120)\n",
        "        self.fc2 = nn.Linear(120, 84)\n",
        "        self.fc3 = nn.Linear(84, 10)\n",
        "\n",
        "    def forward(self, x):\n",
        "        x = self.pool(F.relu(self.conv1(x)))\n",
        "        x = self.pool(F.relu(self.conv2(x)))\n",
        "        x = torch.flatten(x, 1)\n",
        "        x = F.relu(self.fc1(x))\n",
        "        x = F.relu(self.fc2(x))\n",
        "        x = self.fc3(x)\n",
        "        return x\n",
        "\n",
        "net = Net().to(device)\n",
        "print(net)"
      ],
      "execution_count": null,
      "outputs": [
        {
          "output_type": "stream",
          "name": "stdout",
          "text": [
            "Net(\n",
            "  (conv1): Conv2d(3, 6, kernel_size=(5, 5), stride=(1, 1))\n",
            "  (pool): MaxPool2d(kernel_size=2, stride=2, padding=0, dilation=1, ceil_mode=False)\n",
            "  (conv2): Conv2d(6, 16, kernel_size=(5, 5), stride=(1, 1))\n",
            "  (fc1): Linear(in_features=400, out_features=120, bias=True)\n",
            "  (fc2): Linear(in_features=120, out_features=84, bias=True)\n",
            "  (fc3): Linear(in_features=84, out_features=10, bias=True)\n",
            ")\n"
          ]
        }
      ]
    },
    {
      "cell_type": "code",
      "metadata": {
        "id": "gFsEn85YVBL7"
      },
      "source": [
        "# Parameters\n",
        "criterion = nn.CrossEntropyLoss()\n",
        "lr = 0.001\n",
        "epochs = 8\n",
        "optimizer = optim.SGD(net.parameters(), lr=lr, momentum=0.9)"
      ],
      "execution_count": null,
      "outputs": []
    },
    {
      "cell_type": "code",
      "metadata": {
        "id": "mW43Fo0Lt_C_"
      },
      "source": [
        "def cal_accuracy(net,Loader):\n",
        "  correct = 0\n",
        "  total = 0\n",
        "  loss=0\n",
        "  running_loss,times=0,0\n",
        "  with torch.no_grad():\n",
        "      for data in Loader:\n",
        "          inputs, labels = data\n",
        "          inputs, labels = inputs.to(device), labels.to(device)\n",
        "          outputs = net(inputs)\n",
        "          loss = criterion(outputs, labels)\n",
        "          values, predicted = outputs.topk(3, dim=1, largest=True, sorted=True)\n",
        "          total += labels.size(0)\n",
        "          for i,data in enumerate(labels,0):\n",
        "            if data in predicted[i]:\n",
        "              correct+=1\n",
        "          running_loss+=loss.item()\n",
        "          times+=1\n",
        "  return correct/total*100,running_loss/(times)"
      ],
      "execution_count": null,
      "outputs": []
    },
    {
      "cell_type": "code",
      "metadata": {
        "colab": {
          "base_uri": "https://localhost:8080/"
        },
        "id": "9PLU5z-QVFib",
        "outputId": "656670f7-5487-4a83-9be0-3b039b1cd5d8"
      },
      "source": [
        "# Train\n",
        "train_loss_value=[]\n",
        "valid_loss_value=[]\n",
        "now_epoch=0\n",
        "for epoch in range(epochs):\n",
        "    running_loss = 0.0\n",
        "    for times, data in enumerate(trainLoader, 0):\n",
        "        inputs, labels = data\n",
        "        inputs, labels = inputs.to(device), labels.to(device)\n",
        "\n",
        "        # Zero the parameter gradients\n",
        "        optimizer.zero_grad()\n",
        "\n",
        "        # forward + backward + optimize\n",
        "        outputs = net(inputs)\n",
        "        loss = criterion(outputs, labels)\n",
        "        loss.backward()\n",
        "        optimizer.step()\n",
        "        running_loss += loss.item()\n",
        "    \n",
        "    now_valid_accuracy,now_valid_loss=cal_accuracy(net,testLoader)\n",
        "    tmp,now_train_loss=cal_accuracy(net,trainLoader)\n",
        "    print('[%d/%d, %d] train loss: %.3f validation loss: %.3f validation accuracy: %.1f' % (epoch+1, epochs, len(trainLoader), now_train_loss,now_valid_loss,now_valid_accuracy))\n",
        "    train_loss_value.append(running_loss/(times+1))\n",
        "    valid_loss_value.append(now_valid_loss)\n",
        "    \n",
        "print('Finished Training')"
      ],
      "execution_count": null,
      "outputs": [
        {
          "output_type": "stream",
          "name": "stderr",
          "text": [
            "/usr/local/lib/python3.7/dist-packages/torch/nn/functional.py:718: UserWarning: Named tensors and all their associated APIs are an experimental feature and subject to change. Please do not use them for anything important until they are released as stable. (Triggered internally at  /pytorch/c10/core/TensorImpl.h:1156.)\n",
            "  return torch.max_pool2d(input, kernel_size, stride, padding, dilation, ceil_mode)\n"
          ]
        },
        {
          "output_type": "stream",
          "name": "stdout",
          "text": [
            "[1/8, 100/5000] loss: 0.115\n",
            "[1/8, 200/5000] loss: 0.230\n",
            "[1/8, 300/5000] loss: 0.345\n",
            "[1/8, 400/5000] loss: 0.460\n",
            "[1/8, 500/5000] loss: 0.575\n",
            "[1/8, 600/5000] loss: 0.690\n",
            "[1/8, 700/5000] loss: 0.804\n",
            "[1/8, 800/5000] loss: 0.918\n",
            "[1/8, 900/5000] loss: 1.031\n",
            "[1/8, 1000/5000] loss: 1.142\n",
            "[1/8, 1100/5000] loss: 1.253\n",
            "[1/8, 1200/5000] loss: 1.363\n",
            "[1/8, 1300/5000] loss: 1.472\n",
            "[1/8, 1400/5000] loss: 1.579\n",
            "[1/8, 1500/5000] loss: 1.685\n",
            "[1/8, 1600/5000] loss: 1.790\n",
            "[1/8, 1700/5000] loss: 1.895\n",
            "[1/8, 1800/5000] loss: 1.998\n",
            "[1/8, 1900/5000] loss: 2.101\n",
            "[1/8, 2000/5000] loss: 2.201\n",
            "[1/8, 2100/5000] loss: 2.301\n",
            "[1/8, 2200/5000] loss: 2.401\n",
            "[1/8, 2300/5000] loss: 2.497\n",
            "[1/8, 2400/5000] loss: 2.596\n",
            "[1/8, 2500/5000] loss: 2.690\n",
            "[1/8, 2600/5000] loss: 2.786\n",
            "[1/8, 2700/5000] loss: 2.880\n",
            "[1/8, 2800/5000] loss: 2.974\n",
            "[1/8, 2900/5000] loss: 3.071\n",
            "[1/8, 3000/5000] loss: 3.165\n",
            "[1/8, 3100/5000] loss: 3.260\n",
            "[1/8, 3200/5000] loss: 3.352\n",
            "[1/8, 3300/5000] loss: 3.445\n",
            "[1/8, 3400/5000] loss: 3.536\n",
            "[1/8, 3500/5000] loss: 3.624\n",
            "[1/8, 3600/5000] loss: 3.716\n",
            "[1/8, 3700/5000] loss: 3.803\n",
            "[1/8, 3800/5000] loss: 3.892\n",
            "[1/8, 3900/5000] loss: 3.976\n",
            "[1/8, 4000/5000] loss: 4.063\n",
            "[1/8, 4100/5000] loss: 4.149\n",
            "[1/8, 4200/5000] loss: 4.237\n",
            "[1/8, 4300/5000] loss: 4.322\n",
            "[1/8, 4400/5000] loss: 4.406\n",
            "[1/8, 4500/5000] loss: 4.492\n",
            "[1/8, 4600/5000] loss: 4.575\n",
            "[1/8, 4700/5000] loss: 4.657\n",
            "[1/8, 4800/5000] loss: 4.739\n",
            "[1/8, 4900/5000] loss: 4.822\n",
            "[1/8, 5000/5000] loss: 4.904\n",
            "[2/8, 100/5000] loss: 0.081\n",
            "[2/8, 200/5000] loss: 0.161\n",
            "[2/8, 300/5000] loss: 0.242\n",
            "[2/8, 400/5000] loss: 0.322\n",
            "[2/8, 500/5000] loss: 0.403\n",
            "[2/8, 600/5000] loss: 0.482\n",
            "[2/8, 700/5000] loss: 0.561\n",
            "[2/8, 800/5000] loss: 0.644\n",
            "[2/8, 900/5000] loss: 0.723\n",
            "[2/8, 1000/5000] loss: 0.802\n",
            "[2/8, 1100/5000] loss: 0.881\n",
            "[2/8, 1200/5000] loss: 0.959\n",
            "[2/8, 1300/5000] loss: 1.039\n",
            "[2/8, 1400/5000] loss: 1.113\n",
            "[2/8, 1500/5000] loss: 1.190\n",
            "[2/8, 1600/5000] loss: 1.266\n",
            "[2/8, 1700/5000] loss: 1.341\n",
            "[2/8, 1800/5000] loss: 1.418\n",
            "[2/8, 1900/5000] loss: 1.494\n",
            "[2/8, 2000/5000] loss: 1.569\n",
            "[2/8, 2100/5000] loss: 1.645\n",
            "[2/8, 2200/5000] loss: 1.718\n",
            "[2/8, 2300/5000] loss: 1.794\n",
            "[2/8, 2400/5000] loss: 1.869\n",
            "[2/8, 2500/5000] loss: 1.946\n",
            "[2/8, 2600/5000] loss: 2.021\n",
            "[2/8, 2700/5000] loss: 2.096\n",
            "[2/8, 2800/5000] loss: 2.172\n",
            "[2/8, 2900/5000] loss: 2.247\n",
            "[2/8, 3000/5000] loss: 2.320\n",
            "[2/8, 3100/5000] loss: 2.395\n",
            "[2/8, 3200/5000] loss: 2.465\n",
            "[2/8, 3300/5000] loss: 2.539\n",
            "[2/8, 3400/5000] loss: 2.612\n",
            "[2/8, 3500/5000] loss: 2.686\n",
            "[2/8, 3600/5000] loss: 2.757\n",
            "[2/8, 3700/5000] loss: 2.831\n",
            "[2/8, 3800/5000] loss: 2.901\n",
            "[2/8, 3900/5000] loss: 2.977\n",
            "[2/8, 4000/5000] loss: 3.048\n",
            "[2/8, 4100/5000] loss: 3.120\n",
            "[2/8, 4200/5000] loss: 3.191\n",
            "[2/8, 4300/5000] loss: 3.264\n",
            "[2/8, 4400/5000] loss: 3.336\n",
            "[2/8, 4500/5000] loss: 3.404\n",
            "[2/8, 4600/5000] loss: 3.477\n",
            "[2/8, 4700/5000] loss: 3.545\n",
            "[2/8, 4800/5000] loss: 3.617\n",
            "[2/8, 4900/5000] loss: 3.687\n",
            "[2/8, 5000/5000] loss: 3.761\n",
            "[3/8, 100/5000] loss: 0.067\n",
            "[3/8, 200/5000] loss: 0.137\n",
            "[3/8, 300/5000] loss: 0.203\n",
            "[3/8, 400/5000] loss: 0.272\n",
            "[3/8, 500/5000] loss: 0.342\n",
            "[3/8, 600/5000] loss: 0.412\n",
            "[3/8, 700/5000] loss: 0.478\n",
            "[3/8, 800/5000] loss: 0.546\n",
            "[3/8, 900/5000] loss: 0.612\n",
            "[3/8, 1000/5000] loss: 0.683\n",
            "[3/8, 1100/5000] loss: 0.752\n",
            "[3/8, 1200/5000] loss: 0.822\n",
            "[3/8, 1300/5000] loss: 0.889\n",
            "[3/8, 1400/5000] loss: 0.955\n",
            "[3/8, 1500/5000] loss: 1.020\n",
            "[3/8, 1600/5000] loss: 1.087\n",
            "[3/8, 1700/5000] loss: 1.155\n",
            "[3/8, 1800/5000] loss: 1.222\n",
            "[3/8, 1900/5000] loss: 1.287\n",
            "[3/8, 2000/5000] loss: 1.353\n",
            "[3/8, 2100/5000] loss: 1.419\n",
            "[3/8, 2200/5000] loss: 1.487\n",
            "[3/8, 2300/5000] loss: 1.554\n",
            "[3/8, 2400/5000] loss: 1.623\n",
            "[3/8, 2500/5000] loss: 1.689\n",
            "[3/8, 2600/5000] loss: 1.755\n",
            "[3/8, 2700/5000] loss: 1.821\n",
            "[3/8, 2800/5000] loss: 1.888\n",
            "[3/8, 2900/5000] loss: 1.954\n",
            "[3/8, 3000/5000] loss: 2.024\n",
            "[3/8, 3100/5000] loss: 2.093\n",
            "[3/8, 3200/5000] loss: 2.161\n",
            "[3/8, 3300/5000] loss: 2.228\n",
            "[3/8, 3400/5000] loss: 2.297\n",
            "[3/8, 3500/5000] loss: 2.361\n",
            "[3/8, 3600/5000] loss: 2.428\n",
            "[3/8, 3700/5000] loss: 2.495\n",
            "[3/8, 3800/5000] loss: 2.562\n",
            "[3/8, 3900/5000] loss: 2.627\n",
            "[3/8, 4000/5000] loss: 2.693\n",
            "[3/8, 4100/5000] loss: 2.760\n",
            "[3/8, 4200/5000] loss: 2.826\n",
            "[3/8, 4300/5000] loss: 2.894\n",
            "[3/8, 4400/5000] loss: 2.959\n",
            "[3/8, 4500/5000] loss: 3.027\n",
            "[3/8, 4600/5000] loss: 3.094\n",
            "[3/8, 4700/5000] loss: 3.158\n",
            "[3/8, 4800/5000] loss: 3.225\n",
            "[3/8, 4900/5000] loss: 3.286\n",
            "[3/8, 5000/5000] loss: 3.353\n",
            "[4/8, 100/5000] loss: 0.060\n",
            "[4/8, 200/5000] loss: 0.123\n",
            "[4/8, 300/5000] loss: 0.189\n",
            "[4/8, 400/5000] loss: 0.253\n",
            "[4/8, 500/5000] loss: 0.316\n",
            "[4/8, 600/5000] loss: 0.377\n",
            "[4/8, 700/5000] loss: 0.436\n",
            "[4/8, 800/5000] loss: 0.498\n",
            "[4/8, 900/5000] loss: 0.562\n",
            "[4/8, 1000/5000] loss: 0.625\n",
            "[4/8, 1100/5000] loss: 0.687\n",
            "[4/8, 1200/5000] loss: 0.749\n",
            "[4/8, 1300/5000] loss: 0.811\n",
            "[4/8, 1400/5000] loss: 0.872\n",
            "[4/8, 1500/5000] loss: 0.934\n",
            "[4/8, 1600/5000] loss: 0.999\n",
            "[4/8, 1700/5000] loss: 1.059\n",
            "[4/8, 1800/5000] loss: 1.120\n",
            "[4/8, 1900/5000] loss: 1.187\n",
            "[4/8, 2000/5000] loss: 1.252\n",
            "[4/8, 2100/5000] loss: 1.315\n",
            "[4/8, 2200/5000] loss: 1.374\n",
            "[4/8, 2300/5000] loss: 1.439\n",
            "[4/8, 2400/5000] loss: 1.502\n",
            "[4/8, 2500/5000] loss: 1.564\n",
            "[4/8, 2600/5000] loss: 1.628\n",
            "[4/8, 2700/5000] loss: 1.691\n",
            "[4/8, 2800/5000] loss: 1.751\n",
            "[4/8, 2900/5000] loss: 1.813\n",
            "[4/8, 3000/5000] loss: 1.877\n",
            "[4/8, 3100/5000] loss: 1.940\n",
            "[4/8, 3200/5000] loss: 2.004\n",
            "[4/8, 3300/5000] loss: 2.069\n",
            "[4/8, 3400/5000] loss: 2.132\n",
            "[4/8, 3500/5000] loss: 2.194\n",
            "[4/8, 3600/5000] loss: 2.255\n",
            "[4/8, 3700/5000] loss: 2.315\n",
            "[4/8, 3800/5000] loss: 2.376\n",
            "[4/8, 3900/5000] loss: 2.439\n",
            "[4/8, 4000/5000] loss: 2.499\n",
            "[4/8, 4100/5000] loss: 2.560\n",
            "[4/8, 4200/5000] loss: 2.617\n",
            "[4/8, 4300/5000] loss: 2.679\n",
            "[4/8, 4400/5000] loss: 2.741\n",
            "[4/8, 4500/5000] loss: 2.800\n",
            "[4/8, 4600/5000] loss: 2.861\n",
            "[4/8, 4700/5000] loss: 2.922\n",
            "[4/8, 4800/5000] loss: 2.983\n",
            "[4/8, 4900/5000] loss: 3.046\n",
            "[4/8, 5000/5000] loss: 3.105\n",
            "[5/8, 100/5000] loss: 0.061\n",
            "[5/8, 200/5000] loss: 0.121\n",
            "[5/8, 300/5000] loss: 0.178\n",
            "[5/8, 400/5000] loss: 0.237\n",
            "[5/8, 500/5000] loss: 0.293\n",
            "[5/8, 600/5000] loss: 0.350\n",
            "[5/8, 700/5000] loss: 0.409\n",
            "[5/8, 800/5000] loss: 0.467\n",
            "[5/8, 900/5000] loss: 0.523\n",
            "[5/8, 1000/5000] loss: 0.582\n",
            "[5/8, 1100/5000] loss: 0.645\n",
            "[5/8, 1200/5000] loss: 0.702\n",
            "[5/8, 1300/5000] loss: 0.761\n",
            "[5/8, 1400/5000] loss: 0.821\n",
            "[5/8, 1500/5000] loss: 0.879\n",
            "[5/8, 1600/5000] loss: 0.940\n",
            "[5/8, 1700/5000] loss: 0.999\n",
            "[5/8, 1800/5000] loss: 1.059\n",
            "[5/8, 1900/5000] loss: 1.121\n",
            "[5/8, 2000/5000] loss: 1.175\n",
            "[5/8, 2100/5000] loss: 1.230\n",
            "[5/8, 2200/5000] loss: 1.287\n",
            "[5/8, 2300/5000] loss: 1.345\n",
            "[5/8, 2400/5000] loss: 1.405\n",
            "[5/8, 2500/5000] loss: 1.460\n",
            "[5/8, 2600/5000] loss: 1.516\n",
            "[5/8, 2700/5000] loss: 1.574\n",
            "[5/8, 2800/5000] loss: 1.632\n",
            "[5/8, 2900/5000] loss: 1.690\n",
            "[5/8, 3000/5000] loss: 1.745\n",
            "[5/8, 3100/5000] loss: 1.801\n",
            "[5/8, 3200/5000] loss: 1.858\n",
            "[5/8, 3300/5000] loss: 1.916\n",
            "[5/8, 3400/5000] loss: 1.972\n",
            "[5/8, 3500/5000] loss: 2.030\n",
            "[5/8, 3600/5000] loss: 2.091\n",
            "[5/8, 3700/5000] loss: 2.150\n",
            "[5/8, 3800/5000] loss: 2.208\n",
            "[5/8, 3900/5000] loss: 2.269\n",
            "[5/8, 4000/5000] loss: 2.330\n",
            "[5/8, 4100/5000] loss: 2.389\n",
            "[5/8, 4200/5000] loss: 2.449\n",
            "[5/8, 4300/5000] loss: 2.509\n",
            "[5/8, 4400/5000] loss: 2.568\n",
            "[5/8, 4500/5000] loss: 2.627\n",
            "[5/8, 4600/5000] loss: 2.686\n",
            "[5/8, 4700/5000] loss: 2.744\n",
            "[5/8, 4800/5000] loss: 2.802\n",
            "[5/8, 4900/5000] loss: 2.860\n",
            "[5/8, 5000/5000] loss: 2.916\n",
            "[6/8, 100/5000] loss: 0.053\n",
            "[6/8, 200/5000] loss: 0.112\n",
            "[6/8, 300/5000] loss: 0.166\n",
            "[6/8, 400/5000] loss: 0.220\n",
            "[6/8, 500/5000] loss: 0.273\n",
            "[6/8, 600/5000] loss: 0.328\n",
            "[6/8, 700/5000] loss: 0.381\n",
            "[6/8, 800/5000] loss: 0.438\n",
            "[6/8, 900/5000] loss: 0.495\n",
            "[6/8, 1000/5000] loss: 0.547\n",
            "[6/8, 1100/5000] loss: 0.602\n",
            "[6/8, 1200/5000] loss: 0.659\n",
            "[6/8, 1300/5000] loss: 0.713\n",
            "[6/8, 1400/5000] loss: 0.770\n",
            "[6/8, 1500/5000] loss: 0.827\n",
            "[6/8, 1600/5000] loss: 0.882\n",
            "[6/8, 1700/5000] loss: 0.938\n",
            "[6/8, 1800/5000] loss: 0.992\n",
            "[6/8, 1900/5000] loss: 1.048\n",
            "[6/8, 2000/5000] loss: 1.103\n",
            "[6/8, 2100/5000] loss: 1.162\n",
            "[6/8, 2200/5000] loss: 1.216\n",
            "[6/8, 2300/5000] loss: 1.275\n",
            "[6/8, 2400/5000] loss: 1.330\n",
            "[6/8, 2500/5000] loss: 1.385\n",
            "[6/8, 2600/5000] loss: 1.441\n",
            "[6/8, 2700/5000] loss: 1.495\n",
            "[6/8, 2800/5000] loss: 1.551\n",
            "[6/8, 2900/5000] loss: 1.606\n",
            "[6/8, 3000/5000] loss: 1.663\n",
            "[6/8, 3100/5000] loss: 1.715\n",
            "[6/8, 3200/5000] loss: 1.769\n",
            "[6/8, 3300/5000] loss: 1.828\n",
            "[6/8, 3400/5000] loss: 1.884\n",
            "[6/8, 3500/5000] loss: 1.937\n",
            "[6/8, 3600/5000] loss: 1.993\n",
            "[6/8, 3700/5000] loss: 2.047\n",
            "[6/8, 3800/5000] loss: 2.102\n",
            "[6/8, 3900/5000] loss: 2.157\n",
            "[6/8, 4000/5000] loss: 2.210\n",
            "[6/8, 4100/5000] loss: 2.264\n",
            "[6/8, 4200/5000] loss: 2.316\n",
            "[6/8, 4300/5000] loss: 2.373\n",
            "[6/8, 4400/5000] loss: 2.430\n",
            "[6/8, 4500/5000] loss: 2.483\n",
            "[6/8, 4600/5000] loss: 2.538\n",
            "[6/8, 4700/5000] loss: 2.594\n",
            "[6/8, 4800/5000] loss: 2.653\n",
            "[6/8, 4900/5000] loss: 2.708\n",
            "[6/8, 5000/5000] loss: 2.764\n",
            "[7/8, 100/5000] loss: 0.056\n",
            "[7/8, 200/5000] loss: 0.105\n",
            "[7/8, 300/5000] loss: 0.156\n",
            "[7/8, 400/5000] loss: 0.205\n",
            "[7/8, 500/5000] loss: 0.259\n",
            "[7/8, 600/5000] loss: 0.307\n",
            "[7/8, 700/5000] loss: 0.358\n",
            "[7/8, 800/5000] loss: 0.407\n",
            "[7/8, 900/5000] loss: 0.463\n",
            "[7/8, 1000/5000] loss: 0.513\n",
            "[7/8, 1100/5000] loss: 0.565\n",
            "[7/8, 1200/5000] loss: 0.618\n",
            "[7/8, 1300/5000] loss: 0.670\n",
            "[7/8, 1400/5000] loss: 0.723\n",
            "[7/8, 1500/5000] loss: 0.774\n",
            "[7/8, 1600/5000] loss: 0.827\n",
            "[7/8, 1700/5000] loss: 0.879\n",
            "[7/8, 1800/5000] loss: 0.932\n",
            "[7/8, 1900/5000] loss: 0.985\n",
            "[7/8, 2000/5000] loss: 1.035\n",
            "[7/8, 2100/5000] loss: 1.085\n",
            "[7/8, 2200/5000] loss: 1.138\n",
            "[7/8, 2300/5000] loss: 1.193\n",
            "[7/8, 2400/5000] loss: 1.246\n",
            "[7/8, 2500/5000] loss: 1.300\n",
            "[7/8, 2600/5000] loss: 1.353\n",
            "[7/8, 2700/5000] loss: 1.409\n",
            "[7/8, 2800/5000] loss: 1.457\n",
            "[7/8, 2900/5000] loss: 1.511\n",
            "[7/8, 3000/5000] loss: 1.560\n",
            "[7/8, 3100/5000] loss: 1.613\n",
            "[7/8, 3200/5000] loss: 1.668\n",
            "[7/8, 3300/5000] loss: 1.720\n",
            "[7/8, 3400/5000] loss: 1.772\n",
            "[7/8, 3500/5000] loss: 1.829\n",
            "[7/8, 3600/5000] loss: 1.879\n",
            "[7/8, 3700/5000] loss: 1.933\n",
            "[7/8, 3800/5000] loss: 1.985\n",
            "[7/8, 3900/5000] loss: 2.038\n",
            "[7/8, 4000/5000] loss: 2.091\n",
            "[7/8, 4100/5000] loss: 2.147\n",
            "[7/8, 4200/5000] loss: 2.201\n",
            "[7/8, 4300/5000] loss: 2.254\n",
            "[7/8, 4400/5000] loss: 2.310\n",
            "[7/8, 4500/5000] loss: 2.360\n",
            "[7/8, 4600/5000] loss: 2.412\n",
            "[7/8, 4700/5000] loss: 2.460\n",
            "[7/8, 4800/5000] loss: 2.516\n",
            "[7/8, 4900/5000] loss: 2.568\n",
            "[7/8, 5000/5000] loss: 2.621\n",
            "[8/8, 100/5000] loss: 0.049\n",
            "[8/8, 200/5000] loss: 0.102\n",
            "[8/8, 300/5000] loss: 0.149\n",
            "[8/8, 400/5000] loss: 0.197\n",
            "[8/8, 500/5000] loss: 0.245\n",
            "[8/8, 600/5000] loss: 0.294\n",
            "[8/8, 700/5000] loss: 0.341\n",
            "[8/8, 800/5000] loss: 0.390\n",
            "[8/8, 900/5000] loss: 0.438\n",
            "[8/8, 1000/5000] loss: 0.488\n",
            "[8/8, 1100/5000] loss: 0.538\n",
            "[8/8, 1200/5000] loss: 0.588\n",
            "[8/8, 1300/5000] loss: 0.638\n",
            "[8/8, 1400/5000] loss: 0.687\n",
            "[8/8, 1500/5000] loss: 0.738\n",
            "[8/8, 1600/5000] loss: 0.787\n",
            "[8/8, 1700/5000] loss: 0.840\n",
            "[8/8, 1800/5000] loss: 0.889\n",
            "[8/8, 1900/5000] loss: 0.938\n",
            "[8/8, 2000/5000] loss: 0.988\n",
            "[8/8, 2100/5000] loss: 1.037\n",
            "[8/8, 2200/5000] loss: 1.089\n",
            "[8/8, 2300/5000] loss: 1.140\n",
            "[8/8, 2400/5000] loss: 1.193\n",
            "[8/8, 2500/5000] loss: 1.239\n",
            "[8/8, 2600/5000] loss: 1.289\n",
            "[8/8, 2700/5000] loss: 1.339\n",
            "[8/8, 2800/5000] loss: 1.396\n",
            "[8/8, 2900/5000] loss: 1.448\n",
            "[8/8, 3000/5000] loss: 1.494\n",
            "[8/8, 3100/5000] loss: 1.547\n",
            "[8/8, 3200/5000] loss: 1.597\n",
            "[8/8, 3300/5000] loss: 1.644\n",
            "[8/8, 3400/5000] loss: 1.698\n",
            "[8/8, 3500/5000] loss: 1.744\n",
            "[8/8, 3600/5000] loss: 1.797\n",
            "[8/8, 3700/5000] loss: 1.844\n",
            "[8/8, 3800/5000] loss: 1.894\n",
            "[8/8, 3900/5000] loss: 1.949\n",
            "[8/8, 4000/5000] loss: 1.998\n",
            "[8/8, 4100/5000] loss: 2.049\n",
            "[8/8, 4200/5000] loss: 2.097\n",
            "[8/8, 4300/5000] loss: 2.151\n",
            "[8/8, 4400/5000] loss: 2.203\n",
            "[8/8, 4500/5000] loss: 2.250\n",
            "[8/8, 4600/5000] loss: 2.297\n",
            "[8/8, 4700/5000] loss: 2.345\n",
            "[8/8, 4800/5000] loss: 2.395\n",
            "[8/8, 4900/5000] loss: 2.449\n",
            "[8/8, 5000/5000] loss: 2.501\n",
            "Finished Training\n"
          ]
        }
      ]
    },
    {
      "cell_type": "code",
      "metadata": {
        "colab": {
          "base_uri": "https://localhost:8080/"
        },
        "id": "Wii4RQwMwdHL",
        "outputId": "9f24d141-014e-4e57-8e11-e79464385975"
      },
      "source": [
        "# validation accuracy\n",
        "now_valid_accuracy,now_valid_loss=cal_accuracy(net,testLoader)\n",
        "print('Accuracy of the network on the 10000 validation inputs: %.2f %%' % (now_valid_accuracy))"
      ],
      "execution_count": null,
      "outputs": [
        {
          "output_type": "stream",
          "name": "stdout",
          "text": [
            "Accuracy of the network on the 10000 test inputs: 87.52 %\n"
          ]
        }
      ]
    },
    {
      "cell_type": "code",
      "metadata": {
        "colab": {
          "base_uri": "https://localhost:8080/",
          "height": 265
        },
        "id": "3_fy9QzRzigV",
        "outputId": "3eddbb7e-7f77-4e80-e7e1-730331d6c920"
      },
      "source": [
        "#loss curve\n",
        "import matplotlib.pyplot as plt\n",
        "plt.plot(np.array(train_loss_value), 'blue', label='train')\n",
        "plt.plot(np.array(valid_loss_value), 'r', label='validation')\n",
        "plt.legend()\n",
        "plt.show\n",
        "plt.savefig('/content/drive/MyDrive/VSAT_HW1/loss.png')"
      ],
      "execution_count": null,
      "outputs": [
        {
          "output_type": "display_data",
          "data": {
            "image/png": "[encoded data removed]",
            "text/plain": [
              "<Figure size 432x288 with 1 Axes>"
            ]
          },
          "metadata": {
            "needs_background": "light"
          }
        }
      ]
    },
    {
      "cell_type": "code",
      "metadata": {
        "id": "oHBWO90kHcqQ"
      },
      "source": [
        "# Save model\n",
        "model_name='/content/drive/MyDrive/VSAT_HW1/cnn_model.pth'\n",
        "torch.save(net,model_name)"
      ],
      "execution_count": null,
      "outputs": []
    },
    {
      "cell_type": "code",
      "metadata": {
        "colab": {
          "base_uri": "https://localhost:8080/"
        },
        "id": "VrjYdUdMHBaC",
        "outputId": "107c1349-59ce-4088-e1e9-dd8b220c29df"
      },
      "source": [
        "# Load model\n",
        "net=torch.load('/content/drive/MyDrive/VSAT_HW1/cnn_model.pth')\n",
        "now_valid_accuracy,now_valid_loss=cal_accuracy(net,testLoader)\n",
        "print('Accuracy of the network on the 10000 validation inputs: %.2f %%' % (now_valid_accuracy))\n",
        "print('Top-3 error rate of the network on the 10000 validation inputs: %.2f %%' % (100-now_valid_accuracy))"
      ],
      "execution_count": null,
      "outputs": [
        {
          "output_type": "stream",
          "name": "stdout",
          "text": [
            "Accuracy of the network on the 10000 validation inputs: 88.43 %\n",
            "Top-3 error rate of the network on the 10000 validation inputs: 11.57 %\n"
          ]
        }
      ]
    },
    {
      "cell_type": "code",
      "metadata": {
        "id": "vccWsj6mHFDP"
      },
      "source": [
        "# test data\n",
        "x_test=np.load('/content/drive/MyDrive/VSAT_HW1/x_test.npy')\n",
        "x_test=convert_CHW(x_test)\n",
        "testset=MyDataset(data=x_test,label=y_valid,transform=None)\n",
        "testLoader = DataLoader(dataset=testset,batch_size=1,num_workers=2)"
      ],
      "execution_count": null,
      "outputs": []
    },
    {
      "cell_type": "code",
      "metadata": {
        "id": "_bIqYHllyKdK"
      },
      "source": [
        "# output\n",
        "ans=[]\n",
        "with torch.no_grad():\n",
        "    for data in testLoader:\n",
        "        inputs, labels = data\n",
        "        inputs = inputs.to(device)\n",
        "        outputs = net(inputs)\n",
        "        values, predicted = outputs.topk(3, dim=1, largest=True, sorted=True)\n",
        "        for i,data in enumerate(predicted,0):\n",
        "          ans.append(data.tolist())"
      ],
      "execution_count": null,
      "outputs": []
    },
    {
      "cell_type": "code",
      "metadata": {
        "id": "lFLJ7oLy0Ynx"
      },
      "source": [
        "# write\n",
        "txtpath='/content/drive/MyDrive/VSAT_HW1/0712534.txt'\n",
        "f = open(txtpath, 'w')\n",
        "for item in ans:\n",
        "  f.write(str(item)+'\\n')\n",
        "f.close()"
      ],
      "execution_count": null,
      "outputs": []
    },
    {
      "cell_type": "code",
      "metadata": {
        "colab": {
          "base_uri": "https://localhost:8080/"
        },
        "id": "rmeVdNDf1ksJ",
        "outputId": "4ee821ae-155f-4b5e-cdf5-525bd37817d3"
      },
      "source": [
        "# number of parameters\n",
        "number_of_params = sum(p.numel() for p in net.parameters() if p.requires_grad)\n",
        "print('The number of parameters: %d' %number_of_params)"
      ],
      "execution_count": null,
      "outputs": [
        {
          "output_type": "stream",
          "name": "stdout",
          "text": [
            "The number of parameters: 62006\n"
          ]
        }
      ]
    },
    {
      "cell_type": "code",
      "metadata": {
        "id": "ReNB585N3bhx"
      },
      "source": [
        ""
      ],
      "execution_count": null,
      "outputs": []
    }
  ]
}